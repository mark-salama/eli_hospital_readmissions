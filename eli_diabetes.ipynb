{
 "cells": [
  {
   "cell_type": "code",
   "execution_count": 1,
   "metadata": {},
   "outputs": [],
   "source": [
    "import pandas as pd\n",
    "import numpy as np\n",
    "import seaborn as sns\n",
    "import matplotlib.pyplot as plt\n",
    "%matplotlib inline\n",
    "import random\n",
    "import eli5\n",
    "import xgboost as xgb"
   ]
  },
  {
   "cell_type": "code",
   "execution_count": 2,
   "metadata": {},
   "outputs": [],
   "source": [
    "from sklearn.model_selection import train_test_split\n",
    "from sklearn.model_selection import RandomizedSearchCV\n",
    "from sklearn import metrics\n",
    "from sklearn.preprocessing import binarize"
   ]
  },
  {
   "cell_type": "code",
   "execution_count": 3,
   "metadata": {},
   "outputs": [],
   "source": [
    "# load the excel\n",
    "df = pd.read_csv('diabetic_data.csv', header=[0])"
   ]
  },
  {
   "cell_type": "code",
   "execution_count": 4,
   "metadata": {},
   "outputs": [],
   "source": [
    "def encode_feature(df,feature):\n",
    "    feature_dict = {}\n",
    "    for i,x in enumerate(df[feature].unique()):\n",
    "        feature_dict[x] = i\n",
    "\n",
    "    df['{}_adj'.format(feature)] = df[feature].apply(lambda x: feature_dict[x])\n",
    "    \n",
    "    return feature_dict, df"
   ]
  },
  {
   "cell_type": "code",
   "execution_count": 5,
   "metadata": {},
   "outputs": [],
   "source": [
    "diabetes_dict, df = encode_feature(df,'diabetesMed')"
   ]
  },
  {
   "cell_type": "code",
   "execution_count": 6,
   "metadata": {},
   "outputs": [],
   "source": [
    "insulin_dict, df = encode_feature(df,'insulin')"
   ]
  },
  {
   "cell_type": "code",
   "execution_count": 7,
   "metadata": {},
   "outputs": [],
   "source": [
    "metformin_dict, df = encode_feature(df,'metformin')"
   ]
  },
  {
   "cell_type": "code",
   "execution_count": 8,
   "metadata": {},
   "outputs": [],
   "source": [
    "df['age_adj'] = df.age.apply(lambda x: int(x.split('-')[1].split(')')[0])-5)"
   ]
  },
  {
   "cell_type": "code",
   "execution_count": 9,
   "metadata": {},
   "outputs": [],
   "source": [
    "feature_cols = ['num_lab_procedures','num_procedures','num_medications',\\\n",
    "         'number_outpatient','number_emergency','number_inpatient',\\\n",
    "                'age_adj','time_in_hospital','insulin_adj','metformin_adj',\\\n",
    "               'number_diagnoses']"
   ]
  },
  {
   "cell_type": "code",
   "execution_count": 10,
   "metadata": {},
   "outputs": [],
   "source": [
    "df['target'] = df.readmitted.apply(lambda x: 0 if x == 'NO' else 1)"
   ]
  },
  {
   "cell_type": "code",
   "execution_count": 11,
   "metadata": {},
   "outputs": [],
   "source": [
    "# set feature columns and target variable\n",
    "X = df[feature_cols]\n",
    "y = df.target"
   ]
  },
  {
   "cell_type": "code",
   "execution_count": 12,
   "metadata": {},
   "outputs": [],
   "source": [
    "# split into train and test\n",
    "X_train, X_test, y_train, y_test = train_test_split(X, y, test_size=0.33, random_state=42)"
   ]
  },
  {
   "cell_type": "code",
   "execution_count": 64,
   "metadata": {},
   "outputs": [],
   "source": [
    "def grid_search(X_train, X_test, y_train, y_test):\n",
    "    \n",
    "    param_grid = {'max_depth': [2,3,5,7,10,15],\n",
    "            'min_child_weight': [1,2,5,25,100,200],\n",
    "            'learning_rate': [0.01,0.05,0.1,0.15], \n",
    "            'subsample': [.1,.3,.5,.7,1],\n",
    "            'colsample_bytree': [.3,.5,.6,.7,1],\n",
    "            'n_estimators': [10,25,50,100,150,250,300,500,],\n",
    "            'gamma':[0,.00075,.001,.002,.1]}\n",
    "\n",
    "    gridsearch = RandomizedSearchCV(xgb.XGBRegressor(), \n",
    "                              param_grid,                        \n",
    "                              verbose=1,                          \n",
    "                              n_iter=20,\n",
    "                            scoring='neg_mean_squared_error'\n",
    "                             )\n",
    "\n",
    "    gridsearch.fit(X_train,y_train) \n",
    "\n",
    "    return gridsearch"
   ]
  },
  {
   "cell_type": "code",
   "execution_count": 65,
   "metadata": {},
   "outputs": [
    {
     "name": "stdout",
     "output_type": "stream",
     "text": [
      "Fitting 3 folds for each of 20 candidates, totalling 60 fits\n"
     ]
    },
    {
     "name": "stderr",
     "output_type": "stream",
     "text": [
      "[Parallel(n_jobs=1)]: Done  60 out of  60 | elapsed:  4.5min finished\n"
     ]
    }
   ],
   "source": [
    "gridsearch = grid_search(X_train, X_test, y_train, y_test)"
   ]
  },
  {
   "cell_type": "code",
   "execution_count": 67,
   "metadata": {},
   "outputs": [
    {
     "data": {
      "text/plain": [
       "{'subsample': 1,\n",
       " 'n_estimators': 250,\n",
       " 'min_child_weight': 2,\n",
       " 'max_depth': 5,\n",
       " 'learning_rate': 0.05,\n",
       " 'gamma': 0.00075,\n",
       " 'colsample_bytree': 0.5}"
      ]
     },
     "execution_count": 67,
     "metadata": {},
     "output_type": "execute_result"
    }
   ],
   "source": [
    "gridsearch.best_params_"
   ]
  },
  {
   "cell_type": "code",
   "execution_count": 68,
   "metadata": {},
   "outputs": [],
   "source": [
    "# make predictions and turn into binary \n",
    "preds = gridsearch.predict(X_test)\n",
    "pred_class = binarize([preds], 0.5)[0]"
   ]
  },
  {
   "cell_type": "code",
   "execution_count": null,
   "metadata": {},
   "outputs": [],
   "source": [
    "random.shuffle(pred_class)"
   ]
  },
  {
   "cell_type": "code",
   "execution_count": 69,
   "metadata": {},
   "outputs": [
    {
     "name": "stdout",
     "output_type": "stream",
     "text": [
      "Accuracy Score: 0.6290682785933359\n",
      "Recall Score: 0.4760092867277183\n",
      "Precision Score: 0.6301545291556391\n",
      "F1 Score: 0.5423417465740843\n"
     ]
    }
   ],
   "source": [
    "print(\"Accuracy Score:\", metrics.jaccard_similarity_score(y_test, pred_class))\n",
    "print(\"Recall Score:\", metrics.recall_score(y_test, pred_class))\n",
    "print(\"Precision Score:\", metrics.precision_score(y_test, pred_class))\n",
    "print(\"F1 Score:\", metrics.f1_score(y_test, pred_class))"
   ]
  },
  {
   "cell_type": "code",
   "execution_count": 70,
   "metadata": {},
   "outputs": [
    {
     "data": {
      "text/plain": [
       "0.4617217044337909"
      ]
     },
     "execution_count": 70,
     "metadata": {},
     "output_type": "execute_result"
    }
   ],
   "source": [
    "sum(y_test)/len(y_test)"
   ]
  },
  {
   "cell_type": "code",
   "execution_count": 71,
   "metadata": {},
   "outputs": [
    {
     "data": {
      "text/html": [
       "\n",
       "    <style>\n",
       "    table.eli5-weights tr:hover {\n",
       "        filter: brightness(85%);\n",
       "    }\n",
       "</style>\n",
       "\n",
       "\n",
       "\n",
       "    \n",
       "\n",
       "    \n",
       "\n",
       "    \n",
       "\n",
       "    \n",
       "\n",
       "    \n",
       "\n",
       "    \n",
       "\n",
       "\n",
       "    \n",
       "\n",
       "    \n",
       "\n",
       "    \n",
       "\n",
       "    \n",
       "\n",
       "    \n",
       "\n",
       "    \n",
       "\n",
       "\n",
       "    \n",
       "\n",
       "    \n",
       "\n",
       "    \n",
       "\n",
       "    \n",
       "\n",
       "    \n",
       "        <table class=\"eli5-weights eli5-feature-importances\" style=\"border-collapse: collapse; border: none; margin-top: 0em; table-layout: auto;\">\n",
       "    <thead>\n",
       "    <tr style=\"border: none;\">\n",
       "        <th style=\"padding: 0 1em 0 0.5em; text-align: right; border: none;\">Weight</th>\n",
       "        <th style=\"padding: 0 0.5em 0 0.5em; text-align: left; border: none;\">Feature</th>\n",
       "    </tr>\n",
       "    </thead>\n",
       "    <tbody>\n",
       "    \n",
       "        <tr style=\"background-color: hsl(120, 100.00%, 80.00%); border: none;\">\n",
       "            <td style=\"padding: 0 1em 0 0.5em; text-align: right; border: none;\">\n",
       "                0.5181\n",
       "                \n",
       "            </td>\n",
       "            <td style=\"padding: 0 0.5em 0 0.5em; text-align: left; border: none;\">\n",
       "                number_inpatient\n",
       "            </td>\n",
       "        </tr>\n",
       "    \n",
       "        <tr style=\"background-color: hsl(120, 100.00%, 93.38%); border: none;\">\n",
       "            <td style=\"padding: 0 1em 0 0.5em; text-align: right; border: none;\">\n",
       "                0.1067\n",
       "                \n",
       "            </td>\n",
       "            <td style=\"padding: 0 0.5em 0 0.5em; text-align: left; border: none;\">\n",
       "                number_emergency\n",
       "            </td>\n",
       "        </tr>\n",
       "    \n",
       "        <tr style=\"background-color: hsl(120, 100.00%, 94.36%); border: none;\">\n",
       "            <td style=\"padding: 0 1em 0 0.5em; text-align: right; border: none;\">\n",
       "                0.0850\n",
       "                \n",
       "            </td>\n",
       "            <td style=\"padding: 0 0.5em 0 0.5em; text-align: left; border: none;\">\n",
       "                number_diagnoses\n",
       "            </td>\n",
       "        </tr>\n",
       "    \n",
       "        <tr style=\"background-color: hsl(120, 100.00%, 95.66%); border: none;\">\n",
       "            <td style=\"padding: 0 1em 0 0.5em; text-align: right; border: none;\">\n",
       "                0.0584\n",
       "                \n",
       "            </td>\n",
       "            <td style=\"padding: 0 0.5em 0 0.5em; text-align: left; border: none;\">\n",
       "                number_outpatient\n",
       "            </td>\n",
       "        </tr>\n",
       "    \n",
       "        <tr style=\"background-color: hsl(120, 100.00%, 96.28%); border: none;\">\n",
       "            <td style=\"padding: 0 1em 0 0.5em; text-align: right; border: none;\">\n",
       "                0.0469\n",
       "                \n",
       "            </td>\n",
       "            <td style=\"padding: 0 0.5em 0 0.5em; text-align: left; border: none;\">\n",
       "                age_adj\n",
       "            </td>\n",
       "        </tr>\n",
       "    \n",
       "        <tr style=\"background-color: hsl(120, 100.00%, 96.77%); border: none;\">\n",
       "            <td style=\"padding: 0 1em 0 0.5em; text-align: right; border: none;\">\n",
       "                0.0383\n",
       "                \n",
       "            </td>\n",
       "            <td style=\"padding: 0 0.5em 0 0.5em; text-align: left; border: none;\">\n",
       "                num_procedures\n",
       "            </td>\n",
       "        </tr>\n",
       "    \n",
       "        <tr style=\"background-color: hsl(120, 100.00%, 97.03%); border: none;\">\n",
       "            <td style=\"padding: 0 1em 0 0.5em; text-align: right; border: none;\">\n",
       "                0.0340\n",
       "                \n",
       "            </td>\n",
       "            <td style=\"padding: 0 0.5em 0 0.5em; text-align: left; border: none;\">\n",
       "                num_medications\n",
       "            </td>\n",
       "        </tr>\n",
       "    \n",
       "        <tr style=\"background-color: hsl(120, 100.00%, 97.05%); border: none;\">\n",
       "            <td style=\"padding: 0 1em 0 0.5em; text-align: right; border: none;\">\n",
       "                0.0337\n",
       "                \n",
       "            </td>\n",
       "            <td style=\"padding: 0 0.5em 0 0.5em; text-align: left; border: none;\">\n",
       "                time_in_hospital\n",
       "            </td>\n",
       "        </tr>\n",
       "    \n",
       "        <tr style=\"background-color: hsl(120, 100.00%, 97.20%); border: none;\">\n",
       "            <td style=\"padding: 0 1em 0 0.5em; text-align: right; border: none;\">\n",
       "                0.0312\n",
       "                \n",
       "            </td>\n",
       "            <td style=\"padding: 0 0.5em 0 0.5em; text-align: left; border: none;\">\n",
       "                insulin_adj\n",
       "            </td>\n",
       "        </tr>\n",
       "    \n",
       "        <tr style=\"background-color: hsl(120, 100.00%, 97.34%); border: none;\">\n",
       "            <td style=\"padding: 0 1em 0 0.5em; text-align: right; border: none;\">\n",
       "                0.0291\n",
       "                \n",
       "            </td>\n",
       "            <td style=\"padding: 0 0.5em 0 0.5em; text-align: left; border: none;\">\n",
       "                num_lab_procedures\n",
       "            </td>\n",
       "        </tr>\n",
       "    \n",
       "        <tr style=\"background-color: hsl(120, 100.00%, 98.06%); border: none;\">\n",
       "            <td style=\"padding: 0 1em 0 0.5em; text-align: right; border: none;\">\n",
       "                0.0185\n",
       "                \n",
       "            </td>\n",
       "            <td style=\"padding: 0 0.5em 0 0.5em; text-align: left; border: none;\">\n",
       "                metformin_adj\n",
       "            </td>\n",
       "        </tr>\n",
       "    \n",
       "    \n",
       "    </tbody>\n",
       "</table>\n",
       "    \n",
       "\n",
       "    \n",
       "\n",
       "\n",
       "    \n",
       "\n",
       "    \n",
       "\n",
       "    \n",
       "\n",
       "    \n",
       "\n",
       "    \n",
       "\n",
       "    \n",
       "\n",
       "\n",
       "\n"
      ],
      "text/plain": [
       "<IPython.core.display.HTML object>"
      ]
     },
     "execution_count": 71,
     "metadata": {},
     "output_type": "execute_result"
    }
   ],
   "source": [
    "# eli5 most important features\n",
    "eli5.show_weights(gridsearch.best_estimator_, top = 100)"
   ]
  },
  {
   "cell_type": "code",
   "execution_count": 72,
   "metadata": {},
   "outputs": [],
   "source": [
    "def build_eli_impact_df(gridsearch,observations):\n",
    "    # build a df explaining predictions using eli5\n",
    "    \n",
    "    eli_df = pd.DataFrame()\n",
    "    for i in random.sample(list(np.arange(len(X_train))), observations):\n",
    "        df = eli5.explain_prediction_df(gridsearch.best_estimator_,X_train.iloc[i])\n",
    "        eli_df = eli_df.append(df)\n",
    "        \n",
    "    return eli_df"
   ]
  },
  {
   "cell_type": "code",
   "execution_count": 73,
   "metadata": {},
   "outputs": [],
   "source": [
    "def eli_feature(feature,df):\n",
    "    # isolate the explanations to one feature that is discrete\n",
    "\n",
    "    df = eli_df[eli_df.feature==feature]\n",
    "    \n",
    "    one_feat = df.groupby('value').mean()\n",
    "    one_feat_count = df.groupby('value').count()\n",
    "    \n",
    "    one_feat_count = one_feat_count[['target']]\n",
    "    one_feat_count.columns = ['count']\n",
    "    one_feat = pd.concat([one_feat,one_feat_count],axis=1)\n",
    "        \n",
    "    one_feat = one_feat.reset_index()\n",
    "    \n",
    "    one_feat = one_feat[~(one_feat.weight.isna())&\\\n",
    "                            ~(one_feat.value.isna())&\\\n",
    "                            (one_feat['count']>1)]\n",
    "    \n",
    "    one_feat = one_feat.rename(columns={'value':'feature_value'})\n",
    "    \n",
    "    return one_feat"
   ]
  },
  {
   "cell_type": "code",
   "execution_count": 74,
   "metadata": {},
   "outputs": [],
   "source": [
    "def eli_feature_bins(feature,df,bin_size):\n",
    "    # isolate the explanations to one feature that is continuous\n",
    "    \n",
    "    df = eli_df[eli_df.feature==feature]\n",
    "    \n",
    "    one_feat = df.groupby(pd.cut(df.value, np.arange(df.value.min(),df.value.max(),bin_size))).mean()\n",
    "    one_feat = one_feat[['weight']]    \n",
    "    \n",
    "    one_feat_count = df.groupby(pd.cut(df.value, np.arange(df.value.min(),df.value.max(),bin_size))).count()\n",
    "    one_feat_count = one_feat_count[['target']]\n",
    "    one_feat_count.columns = ['count']\n",
    "    \n",
    "    one_feat = pd.concat([one_feat,one_feat_count],axis=1)\n",
    "        \n",
    "    one_feat = one_feat.reset_index()\n",
    "    \n",
    "    one_feat['feature_value'] = one_feat.value.apply(lambda x: (x.left + x.right)/2)\n",
    "    \n",
    "    one_feat = one_feat[~(one_feat.weight.isna())&\\\n",
    "                            ~(one_feat.feature_value.isna())&\\\n",
    "                            (one_feat['count']>1)]\n",
    "    \n",
    "    return one_feat"
   ]
  },
  {
   "cell_type": "code",
   "execution_count": 75,
   "metadata": {},
   "outputs": [],
   "source": [
    "eli_df = build_eli_impact_df(gridsearch,2000)"
   ]
  },
  {
   "cell_type": "code",
   "execution_count": 76,
   "metadata": {},
   "outputs": [],
   "source": [
    "diagnoses = eli_feature('number_diagnoses',eli_df)"
   ]
  },
  {
   "cell_type": "code",
   "execution_count": 77,
   "metadata": {},
   "outputs": [
    {
     "name": "stdout",
     "output_type": "stream",
     "text": [
      "min: 1.0\n",
      "max: 13.0\n"
     ]
    }
   ],
   "source": [
    "print('min: {}'.format(diagnoses.feature_value.min()))\n",
    "print('max: {}'.format(diagnoses.feature_value.max()))"
   ]
  },
  {
   "cell_type": "code",
   "execution_count": 78,
   "metadata": {},
   "outputs": [
    {
     "name": "stdout",
     "output_type": "stream",
     "text": [
      "min: -0.08104807436490577\n",
      "max: 0.019970039721797683\n"
     ]
    }
   ],
   "source": [
    "print('min: {}'.format(diagnoses.weight.min()))\n",
    "print('max: {}'.format(diagnoses.weight.max()))"
   ]
  },
  {
   "cell_type": "code",
   "execution_count": 80,
   "metadata": {},
   "outputs": [
    {
     "data": {
      "text/plain": [
       "Text(0.5,1,'Feature Impact - Number of Diagnoses')"
      ]
     },
     "execution_count": 80,
     "metadata": {},
     "output_type": "execute_result"
    },
    {
     "data": {
      "image/png": "[encoded data removed]",
      "text/plain": [
       "<Figure size 792x576 with 1 Axes>"
      ]
     },
     "metadata": {},
     "output_type": "display_data"
    }
   ],
   "source": [
    "plt.style.use('fivethirtyeight')\n",
    "fig, ax = plt.subplots(figsize=(11,8))\n",
    "ax.plot(list(diagnoses.feature_value),diagnoses.weight)\n",
    "plt.xlim(2,10)\n",
    "plt.ylim(-0.1,.03)\n",
    "plt.xlabel('Number of Diagnoses')\n",
    "plt.ylabel('Predicted Weight')\n",
    "plt.title('Feature Impact - {}'.format('Number of Diagnoses'))"
   ]
  },
  {
   "cell_type": "code",
   "execution_count": null,
   "metadata": {},
   "outputs": [],
   "source": []
  }
 ],
 "metadata": {
  "kernelspec": {
   "display_name": "Python 3",
   "language": "python",
   "name": "python3"
  },
  "language_info": {
   "codemirror_mode": {
    "name": "ipython",
    "version": 3
   },
   "file_extension": ".py",
   "mimetype": "text/x-python",
   "name": "python",
   "nbconvert_exporter": "python",
   "pygments_lexer": "ipython3",
   "version": "3.6.5"
  }
 },
 "nbformat": 4,
 "nbformat_minor": 2
}
